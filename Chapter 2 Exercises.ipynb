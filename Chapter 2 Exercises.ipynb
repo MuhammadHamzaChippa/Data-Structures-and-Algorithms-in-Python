{
 "cells": [
  {
   "cell_type": "markdown",
   "id": "68d75f2d",
   "metadata": {},
   "source": [
    "# Reinforcement "
   ]
  },
  {
   "cell_type": "markdown",
   "id": "c8b5b4a7",
   "metadata": {},
   "source": [
    "R-2.4 Write a Python class, Flower, that has three instance variables of type str,\n",
    "int, and float, that respectively represent the name of the flower, its number of petals, and its price. Your class must include a constructor method\n",
    "that initializes each variable to an appropriate value, and your class should\n",
    "include methods for setting the value of each type, and retrieving the value\n",
    "of each type."
   ]
  },
  {
   "cell_type": "code",
   "execution_count": 8,
   "id": "561160ad",
   "metadata": {},
   "outputs": [
    {
     "name": "stdout",
     "output_type": "stream",
     "text": [
      "Rose 6 10\n",
      "Rose 6 15.0\n"
     ]
    }
   ],
   "source": [
    "class Flower():\n",
    "    def __init__(self, name , petals, price ):\n",
    "        self._name = name\n",
    "        self._petals = petals \n",
    "        self._price = price \n",
    "    \n",
    "    def set_name(self , name):\n",
    "        #checking whether the name is string \n",
    "        if isinstance(name,str):\n",
    "            self._name = name \n",
    "        else:\n",
    "            print(\"Invalid input type\")\n",
    "        \"\"\"\n",
    "        Above code can be implemented in this way as well \n",
    "        try:\n",
    "            self._name = str(name)\n",
    "        else:\n",
    "            print(\"Invalid input type , it must be string\")\n",
    "        \"\"\"\n",
    "    \n",
    "    def set_petals(self, petals):\n",
    "        try:\n",
    "            self._petals = petals \n",
    "        except:\n",
    "            print(\"Invalid input\")\n",
    "            \n",
    "    def set_price(self, price):\n",
    "        try:\n",
    "            self._price = float(price)\n",
    "        except: \n",
    "            print(\"Invalid Price, it must be number\")\n",
    "    \n",
    "    def get_name(self):\n",
    "        if self._name is None:\n",
    "            return (\"Attribute has not been set\")\n",
    "        else:\n",
    "            return self._name\n",
    "    \n",
    "    def get_petals(self):\n",
    "        if self._name is None:\n",
    "            return (\"Attribute has not been set\")\n",
    "        else:\n",
    "            return self._petals\n",
    "        \n",
    "    def get_price(self):\n",
    "        if self._name is None:\n",
    "            return (\"Attribute has not been set\")\n",
    "        else:\n",
    "            return self._price\n",
    "\n",
    "Rose = Flower(\"Rose\" , 6 , 10)\n",
    "print(Rose.get_name() , Rose.get_petals() , Rose.get_price())\n",
    "\n",
    "Rose.set_price(15)\n",
    "print(Rose.get_name() , Rose.get_petals() , Rose.get_price())"
   ]
  },
  {
   "cell_type": "markdown",
   "id": "ab301575",
   "metadata": {},
   "source": [
    "2.5 Use the techniques of Section 1.7 to revise the charge and make payment\n",
    "methods of the CreditCard class to ensure that the caller sends a number\n",
    "as a parameter"
   ]
  },
  {
   "cell_type": "code",
   "execution_count": 14,
   "id": "10589a72",
   "metadata": {},
   "outputs": [
    {
     "name": "stdout",
     "output_type": "stream",
     "text": [
      "Balance is 100.0\n",
      "Balance is 600.0\n",
      "Balance is 800.0\n",
      "Balance is 900.0\n",
      "Your deposit of 500.0 exceeds your remainder of 100.0\n",
      "Balance is 900.0\n",
      "Invalid input\n",
      "Balance is 900.0\n",
      "Balance is 920.0\n",
      "Your deposit of 453.4 exceeds your remainder of 80.0\n",
      "Balance is 920.0\n"
     ]
    }
   ],
   "source": [
    "class CreditCard():\n",
    "    def __init__(self, customer, bank, acnt, limit):\n",
    "        self._customer = customer\n",
    "        self._bank = bank\n",
    "        self._account = acnt\n",
    "        self._limit = limit\n",
    "        self._balance = 0  #Start with a balance of zero\n",
    "        \n",
    "    def get_customer(self):\n",
    "        return self._customer\n",
    "    def get_bank(self):\n",
    "        return self._bank\n",
    "    def get_account(self):\n",
    "        return self._account\n",
    "    def get_limit(self):\n",
    "        return self._limit\n",
    "    def get_balance(self):\n",
    "        return self._balance\n",
    "    \n",
    "    def set_balance(self, value):\n",
    "        self._balance = value\n",
    "          \n",
    "    def charge(self, price):\n",
    "        try:\n",
    "            price = float(price)  #This will accept an int, float or string that can be converted to a float\n",
    "        except:\n",
    "            print ('Invalid input')\n",
    "            return False       \n",
    "        if price+self._balance >self._limit:\n",
    "            print(f'Your deposit of {price} exceeds your remainder of {self.get_limit()-self.get_balance()}')\n",
    "            return False #You are going over your limit\n",
    "        else:\n",
    "            self._balance += price\n",
    "            return True\n",
    "        \n",
    "    def make_payment(self, amount):\n",
    "        try:\n",
    "            amount = float(amount)  #This will accept an int, float or string that can be converted to a float\n",
    "        except:\n",
    "            print ('Invalid input')\n",
    "            return False \n",
    "        self._balance -= amount\n",
    "        return True\n",
    "        \n",
    "        \n",
    "        \n",
    "cc1 = CreditCard('Hamza', 'Habib', '1234567890', 1000)\n",
    "cc1.charge(100); print(\"Balance is\", cc1.get_balance()) \n",
    "cc1.charge(500); print(\"Balance is\", cc1.get_balance()) \n",
    "cc1.charge(200); print(\"Balance is\", cc1.get_balance()) \n",
    "cc1.charge(100); print(\"Balance is\", cc1.get_balance()) \n",
    "cc1.charge(500); print(\"Balance is\",cc1.get_balance()) \n",
    "\n",
    "cc1.charge(\"Hello\"); print(\"Balance is\",cc1.get_balance())\n",
    "cc1.charge(\"20\"); print(\"Balance is\" , cc1.get_balance())\n",
    "cc1.charge(\"453.4\"); print(\"Balance is\",cc1.get_balance())"
   ]
  },
  {
   "cell_type": "markdown",
   "id": "26cedd7a",
   "metadata": {},
   "source": [
    "2.6 If the parameter to the make payment method of the CreditCard class\n",
    "were a negative number, that would have the effect of raising the balance\n",
    "on the account. Revise the implementation so that it raises a ValueError if\n",
    "a negative value is sent"
   ]
  },
  {
   "cell_type": "code",
   "execution_count": 17,
   "id": "7b608188",
   "metadata": {},
   "outputs": [
    {
     "ename": "ValueError",
     "evalue": "Cannot make negative payments.  Try the charge method",
     "output_type": "error",
     "traceback": [
      "\u001b[1;31m---------------------------------------------------------------------------\u001b[0m",
      "\u001b[1;31mValueError\u001b[0m                                Traceback (most recent call last)",
      "\u001b[1;32m<ipython-input-17-4ce5a3cfc1d4>\u001b[0m in \u001b[0;36m<module>\u001b[1;34m\u001b[0m\n\u001b[0;32m     14\u001b[0m \u001b[1;33m\u001b[0m\u001b[0m\n\u001b[0;32m     15\u001b[0m \u001b[0mcc1\u001b[0m \u001b[1;33m=\u001b[0m \u001b[0mCreditCardWithoutNegatives\u001b[0m\u001b[1;33m(\u001b[0m\u001b[1;34m'Hamza'\u001b[0m\u001b[1;33m,\u001b[0m \u001b[1;34m'Habib'\u001b[0m\u001b[1;33m,\u001b[0m \u001b[1;34m'1234567890'\u001b[0m\u001b[1;33m,\u001b[0m \u001b[1;36m1000\u001b[0m\u001b[1;33m)\u001b[0m\u001b[1;33m\u001b[0m\u001b[1;33m\u001b[0m\u001b[0m\n\u001b[1;32m---> 16\u001b[1;33m \u001b[0mcc1\u001b[0m\u001b[1;33m.\u001b[0m\u001b[0mmake_payment\u001b[0m\u001b[1;33m(\u001b[0m\u001b[1;34m\"-100\"\u001b[0m\u001b[1;33m)\u001b[0m\u001b[1;33m\u001b[0m\u001b[1;33m\u001b[0m\u001b[0m\n\u001b[0m",
      "\u001b[1;32m<ipython-input-17-4ce5a3cfc1d4>\u001b[0m in \u001b[0;36mmake_payment\u001b[1;34m(self, amount)\u001b[0m\n\u001b[0;32m      8\u001b[0m \u001b[1;33m\u001b[0m\u001b[0m\n\u001b[0;32m      9\u001b[0m         \u001b[1;32mif\u001b[0m \u001b[0mamount\u001b[0m \u001b[1;33m<\u001b[0m \u001b[1;36m0\u001b[0m\u001b[1;33m:\u001b[0m\u001b[1;33m\u001b[0m\u001b[1;33m\u001b[0m\u001b[0m\n\u001b[1;32m---> 10\u001b[1;33m             \u001b[1;32mraise\u001b[0m \u001b[0mValueError\u001b[0m\u001b[1;33m(\u001b[0m\u001b[1;34m'Cannot make negative payments.  Try the charge method'\u001b[0m\u001b[1;33m)\u001b[0m\u001b[1;33m\u001b[0m\u001b[1;33m\u001b[0m\u001b[0m\n\u001b[0m\u001b[0;32m     11\u001b[0m         \u001b[1;32melse\u001b[0m\u001b[1;33m:\u001b[0m\u001b[1;33m\u001b[0m\u001b[1;33m\u001b[0m\u001b[0m\n\u001b[0;32m     12\u001b[0m             \u001b[0mself\u001b[0m\u001b[1;33m.\u001b[0m\u001b[0m_balance\u001b[0m \u001b[1;33m-=\u001b[0m \u001b[0mamount\u001b[0m\u001b[1;33m\u001b[0m\u001b[1;33m\u001b[0m\u001b[0m\n",
      "\u001b[1;31mValueError\u001b[0m: Cannot make negative payments.  Try the charge method"
     ]
    }
   ],
   "source": [
    "class CreditCardWithoutNegatives(CreditCard):\n",
    "    def make_payment(self, amount):\n",
    "        try:\n",
    "            amount = float(amount)\n",
    "        except:\n",
    "            print('Invalid Input')\n",
    "            return False\n",
    "        \n",
    "        if amount < 0:\n",
    "            raise ValueError('Cannot make negative payments.  Try the charge method')\n",
    "        else:\n",
    "            self._balance -= amount\n",
    "            return True\n",
    "\n",
    "cc1 = CreditCardWithoutNegatives('Hamza', 'Habib', '1234567890', 1000)\n",
    "cc1.make_payment(\"-100\")"
   ]
  },
  {
   "cell_type": "markdown",
   "id": "1907fb5c",
   "metadata": {},
   "source": [
    "R-2.7 The CreditCard class of Section 2.3 initializes the balance of a new ac\u0002count to zero. Modify that class so that a new account can be given a\n",
    "nonzero balance using an optional fifth parameter to the constructor. The\n",
    "four-parameter constructor syntax should continue to produce an account\n",
    "with zero balance."
   ]
  },
  {
   "cell_type": "code",
   "execution_count": 19,
   "id": "990f7188",
   "metadata": {},
   "outputs": [
    {
     "data": {
      "text/plain": [
       "100"
      ]
     },
     "execution_count": 19,
     "metadata": {},
     "output_type": "execute_result"
    }
   ],
   "source": [
    "class CreditCardWithBalance(CreditCard):\n",
    "    def __init__(self, customer, bank, acnt, limit, balance = 0):\n",
    "        super().__init__(customer, bank, acnt, limit)\n",
    "        self._balance = balance\n",
    "\n",
    "cc = CreditCardWithBalance('Hamza', 'Habib', '1234567890', 1000 , 100)\n",
    "print(\"Credit card Balance is\", cc.get_balance())\n"
   ]
  },
  {
   "cell_type": "code",
   "execution_count": null,
   "id": "85effee6",
   "metadata": {},
   "outputs": [],
   "source": []
  }
 ],
 "metadata": {
  "kernelspec": {
   "display_name": "Python 3",
   "language": "python",
   "name": "python3"
  },
  "language_info": {
   "codemirror_mode": {
    "name": "ipython",
    "version": 3
   },
   "file_extension": ".py",
   "mimetype": "text/x-python",
   "name": "python",
   "nbconvert_exporter": "python",
   "pygments_lexer": "ipython3",
   "version": "3.8.8"
  }
 },
 "nbformat": 4,
 "nbformat_minor": 5
}
