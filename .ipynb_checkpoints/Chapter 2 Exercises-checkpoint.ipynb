{
 "cells": [
  {
   "cell_type": "markdown",
   "id": "68d75f2d",
   "metadata": {},
   "source": [
    "# Reinforcement "
   ]
  },
  {
   "cell_type": "markdown",
   "id": "c8b5b4a7",
   "metadata": {},
   "source": [
    "**R-2.4 Write a Python class, Flower, that has three instance variables of type str,\n",
    "int, and float, that respectively represent the name of the flower, its number of petals, and its price. Your class must include a constructor method\n",
    "that initializes each variable to an appropriate value, and your class should\n",
    "include methods for setting the value of each type, and retrieving the value\n",
    "of each type.**"
   ]
  },
  {
   "cell_type": "code",
   "execution_count": 8,
   "id": "561160ad",
   "metadata": {},
   "outputs": [
    {
     "name": "stdout",
     "output_type": "stream",
     "text": [
      "Rose 6 10\n",
      "Rose 6 15.0\n"
     ]
    }
   ],
   "source": [
    "class Flower():\n",
    "    def __init__(self, name , petals, price ):\n",
    "        self._name = name\n",
    "        self._petals = petals \n",
    "        self._price = price \n",
    "    \n",
    "    def set_name(self , name):\n",
    "        #checking whether the name is string \n",
    "        if isinstance(name,str):\n",
    "            self._name = name \n",
    "        else:\n",
    "            print(\"Invalid input type\")\n",
    "        \"\"\"\n",
    "        Above code can be implemented in this way as well \n",
    "        try:\n",
    "            self._name = str(name)\n",
    "        else:\n",
    "            print(\"Invalid input type , it must be string\")\n",
    "        \"\"\"\n",
    "    \n",
    "    def set_petals(self, petals):\n",
    "        try:\n",
    "            self._petals = petals \n",
    "        except:\n",
    "            print(\"Invalid input\")\n",
    "            \n",
    "    def set_price(self, price):\n",
    "        try:\n",
    "            self._price = float(price)\n",
    "        except: \n",
    "            print(\"Invalid Price, it must be number\")\n",
    "    \n",
    "    def get_name(self):\n",
    "        if self._name is None:\n",
    "            return (\"Attribute has not been set\")\n",
    "        else:\n",
    "            return self._name\n",
    "    \n",
    "    def get_petals(self):\n",
    "        if self._name is None:\n",
    "            return (\"Attribute has not been set\")\n",
    "        else:\n",
    "            return self._petals\n",
    "        \n",
    "    def get_price(self):\n",
    "        if self._name is None:\n",
    "            return (\"Attribute has not been set\")\n",
    "        else:\n",
    "            return self._price\n",
    "\n",
    "Rose = Flower(\"Rose\" , 6 , 10)\n",
    "print(Rose.get_name() , Rose.get_petals() , Rose.get_price())\n",
    "\n",
    "Rose.set_price(15)\n",
    "print(Rose.get_name() , Rose.get_petals() , Rose.get_price())"
   ]
  },
  {
   "cell_type": "markdown",
   "id": "ab301575",
   "metadata": {},
   "source": [
    "**2.5 Use the techniques of Section 1.7 to revise the charge and make payment\n",
    "methods of the CreditCard class to ensure that the caller sends a number\n",
    "as a parameter**"
   ]
  },
  {
   "cell_type": "code",
   "execution_count": 14,
   "id": "10589a72",
   "metadata": {},
   "outputs": [
    {
     "name": "stdout",
     "output_type": "stream",
     "text": [
      "Balance is 100.0\n",
      "Balance is 600.0\n",
      "Balance is 800.0\n",
      "Balance is 900.0\n",
      "Your deposit of 500.0 exceeds your remainder of 100.0\n",
      "Balance is 900.0\n",
      "Invalid input\n",
      "Balance is 900.0\n",
      "Balance is 920.0\n",
      "Your deposit of 453.4 exceeds your remainder of 80.0\n",
      "Balance is 920.0\n"
     ]
    }
   ],
   "source": [
    "class CreditCard():\n",
    "    def __init__(self, customer, bank, acnt, limit):\n",
    "        self._customer = customer\n",
    "        self._bank = bank\n",
    "        self._account = acnt\n",
    "        self._limit = limit\n",
    "        self._balance = 0  #Start with a balance of zero\n",
    "        \n",
    "    def get_customer(self):\n",
    "        return self._customer\n",
    "    def get_bank(self):\n",
    "        return self._bank\n",
    "    def get_account(self):\n",
    "        return self._account\n",
    "    def get_limit(self):\n",
    "        return self._limit\n",
    "    def get_balance(self):\n",
    "        return self._balance\n",
    "    \n",
    "    def set_balance(self, value):\n",
    "        self._balance = value\n",
    "          \n",
    "    def charge(self, price):\n",
    "        try:\n",
    "            price = float(price)  #This will accept an int, float or string that can be converted to a float\n",
    "        except:\n",
    "            print ('Invalid input')\n",
    "            return False       \n",
    "        if price+self._balance >self._limit:\n",
    "            print(f'Your deposit of {price} exceeds your remainder of {self.get_limit()-self.get_balance()}')\n",
    "            return False #You are going over your limit\n",
    "        else:\n",
    "            self._balance += price\n",
    "            return True\n",
    "        \n",
    "    def make_payment(self, amount):\n",
    "        try:\n",
    "            amount = float(amount)  #This will accept an int, float or string that can be converted to a float\n",
    "        except:\n",
    "            print ('Invalid input')\n",
    "            return False \n",
    "        self._balance -= amount\n",
    "        return True\n",
    "        \n",
    "        \n",
    "        \n",
    "cc1 = CreditCard('Hamza', 'Habib', '1234567890', 1000)\n",
    "cc1.charge(100); print(\"Balance is\", cc1.get_balance()) \n",
    "cc1.charge(500); print(\"Balance is\", cc1.get_balance()) \n",
    "cc1.charge(200); print(\"Balance is\", cc1.get_balance()) \n",
    "cc1.charge(100); print(\"Balance is\", cc1.get_balance()) \n",
    "cc1.charge(500); print(\"Balance is\",cc1.get_balance()) \n",
    "\n",
    "cc1.charge(\"Hello\"); print(\"Balance is\",cc1.get_balance())\n",
    "cc1.charge(\"20\"); print(\"Balance is\" , cc1.get_balance())\n",
    "cc1.charge(\"453.4\"); print(\"Balance is\",cc1.get_balance())"
   ]
  },
  {
   "cell_type": "markdown",
   "id": "26cedd7a",
   "metadata": {},
   "source": [
    "**2.6 If the parameter to the make payment method of the CreditCard class\n",
    "were a negative number, that would have the effect of raising the balance\n",
    "on the account. Revise the implementation so that it raises a ValueError if\n",
    "a negative value is sent**"
   ]
  },
  {
   "cell_type": "code",
   "execution_count": 17,
   "id": "7b608188",
   "metadata": {},
   "outputs": [
    {
     "ename": "ValueError",
     "evalue": "Cannot make negative payments.  Try the charge method",
     "output_type": "error",
     "traceback": [
      "\u001b[1;31m---------------------------------------------------------------------------\u001b[0m",
      "\u001b[1;31mValueError\u001b[0m                                Traceback (most recent call last)",
      "\u001b[1;32m<ipython-input-17-4ce5a3cfc1d4>\u001b[0m in \u001b[0;36m<module>\u001b[1;34m\u001b[0m\n\u001b[0;32m     14\u001b[0m \u001b[1;33m\u001b[0m\u001b[0m\n\u001b[0;32m     15\u001b[0m \u001b[0mcc1\u001b[0m \u001b[1;33m=\u001b[0m \u001b[0mCreditCardWithoutNegatives\u001b[0m\u001b[1;33m(\u001b[0m\u001b[1;34m'Hamza'\u001b[0m\u001b[1;33m,\u001b[0m \u001b[1;34m'Habib'\u001b[0m\u001b[1;33m,\u001b[0m \u001b[1;34m'1234567890'\u001b[0m\u001b[1;33m,\u001b[0m \u001b[1;36m1000\u001b[0m\u001b[1;33m)\u001b[0m\u001b[1;33m\u001b[0m\u001b[1;33m\u001b[0m\u001b[0m\n\u001b[1;32m---> 16\u001b[1;33m \u001b[0mcc1\u001b[0m\u001b[1;33m.\u001b[0m\u001b[0mmake_payment\u001b[0m\u001b[1;33m(\u001b[0m\u001b[1;34m\"-100\"\u001b[0m\u001b[1;33m)\u001b[0m\u001b[1;33m\u001b[0m\u001b[1;33m\u001b[0m\u001b[0m\n\u001b[0m",
      "\u001b[1;32m<ipython-input-17-4ce5a3cfc1d4>\u001b[0m in \u001b[0;36mmake_payment\u001b[1;34m(self, amount)\u001b[0m\n\u001b[0;32m      8\u001b[0m \u001b[1;33m\u001b[0m\u001b[0m\n\u001b[0;32m      9\u001b[0m         \u001b[1;32mif\u001b[0m \u001b[0mamount\u001b[0m \u001b[1;33m<\u001b[0m \u001b[1;36m0\u001b[0m\u001b[1;33m:\u001b[0m\u001b[1;33m\u001b[0m\u001b[1;33m\u001b[0m\u001b[0m\n\u001b[1;32m---> 10\u001b[1;33m             \u001b[1;32mraise\u001b[0m \u001b[0mValueError\u001b[0m\u001b[1;33m(\u001b[0m\u001b[1;34m'Cannot make negative payments.  Try the charge method'\u001b[0m\u001b[1;33m)\u001b[0m\u001b[1;33m\u001b[0m\u001b[1;33m\u001b[0m\u001b[0m\n\u001b[0m\u001b[0;32m     11\u001b[0m         \u001b[1;32melse\u001b[0m\u001b[1;33m:\u001b[0m\u001b[1;33m\u001b[0m\u001b[1;33m\u001b[0m\u001b[0m\n\u001b[0;32m     12\u001b[0m             \u001b[0mself\u001b[0m\u001b[1;33m.\u001b[0m\u001b[0m_balance\u001b[0m \u001b[1;33m-=\u001b[0m \u001b[0mamount\u001b[0m\u001b[1;33m\u001b[0m\u001b[1;33m\u001b[0m\u001b[0m\n",
      "\u001b[1;31mValueError\u001b[0m: Cannot make negative payments.  Try the charge method"
     ]
    }
   ],
   "source": [
    "class CreditCardWithoutNegatives(CreditCard):\n",
    "    def make_payment(self, amount):\n",
    "        try:\n",
    "            amount = float(amount)\n",
    "        except:\n",
    "            print('Invalid Input')\n",
    "            return False\n",
    "        \n",
    "        if amount < 0:\n",
    "            raise ValueError('Cannot make negative payments.  Try the charge method')\n",
    "        else:\n",
    "            self._balance -= amount\n",
    "            return True\n",
    "\n",
    "cc1 = CreditCardWithoutNegatives('Hamza', 'Habib', '1234567890', 1000)\n",
    "cc1.make_payment(\"-100\")"
   ]
  },
  {
   "cell_type": "markdown",
   "id": "1907fb5c",
   "metadata": {},
   "source": [
    "**R-2.7 The CreditCard class of Section 2.3 initializes the balance of a new ac\u0002count to zero. Modify that class so that a new account can be given a\n",
    "nonzero balance using an optional fifth parameter to the constructor. The\n",
    "four-parameter constructor syntax should continue to produce an account\n",
    "with zero balance.**"
   ]
  },
  {
   "cell_type": "code",
   "execution_count": 19,
   "id": "990f7188",
   "metadata": {},
   "outputs": [
    {
     "data": {
      "text/plain": [
       "100"
      ]
     },
     "execution_count": 19,
     "metadata": {},
     "output_type": "execute_result"
    }
   ],
   "source": [
    "class CreditCardWithBalance(CreditCard):\n",
    "    def __init__(self, customer, bank, acnt, limit, balance = 0):\n",
    "        super().__init__(customer, bank, acnt, limit)\n",
    "        self._balance = balance\n",
    "\n",
    "cc = CreditCardWithBalance('Hamza', 'Habib', '1234567890', 1000 , 100)\n",
    "print(\"Credit card Balance is\", cc.get_balance())\n"
   ]
  },
  {
   "cell_type": "markdown",
   "id": "67fba827",
   "metadata": {},
   "source": [
    "**R-2.9 Implement the sub method for the Vector class of Section 2.3.3, so\n",
    "that the expression u−v returns a new vector instance representing the\n",
    "difference between two vectors.**"
   ]
  },
  {
   "cell_type": "code",
   "execution_count": 22,
   "id": "9132c78a",
   "metadata": {},
   "outputs": [
    {
     "name": "stdout",
     "output_type": "stream",
     "text": [
      "v1: <5, 5, 5, 5, 5>\n",
      "v2: <0, 1, 2, 3, 4>\n",
      "<5, 6, 7, 8, 9>\n",
      "<5, 4, 3, 2, 1>\n",
      "<-5, -4, -3, -2, -1>\n"
     ]
    }
   ],
   "source": [
    "class Vector:\n",
    "    def __init__(self, d):\n",
    "        self._coords = [0]*d\n",
    "    def __len__(self):\n",
    "        return len(self._coords)\n",
    "    def __getitem__(self, j):\n",
    "        return self._coords[j]\n",
    "    def __setitem__(self, j, val):\n",
    "        try:\n",
    "            self._coords[j] = val\n",
    "            return True\n",
    "        except:\n",
    "            print('Invalid input or index')\n",
    "            return False\n",
    "    def __add__(self, other):\n",
    "        if len(self)!=len(other):\n",
    "            raise ValueError('Dimensions must match')\n",
    "        result = Vector(len(self))\n",
    "        for j in range(len(self)):\n",
    "            result[j] = self[j] + other[j]\n",
    "        return result\n",
    "            \n",
    "    def __eq__(self, other):\n",
    "        return self._coords == other._coords\n",
    "    \n",
    "    def __ne__(self, other):\n",
    "        return not self==other\n",
    "    \n",
    "    def __str__(self):\n",
    "        return '<' + str(self._coords)[1:-1] + '>'\n",
    "    \n",
    "    def __sub__(self, other):\n",
    "        if len(self) != len(other):\n",
    "            raise ValueError('Dimensions must match')\n",
    "        result = Vector(len(self))\n",
    "        for j in range (len(self)):\n",
    "            result[j] = self[j] - other[j]\n",
    "        return result\n",
    "    \n",
    "    \n",
    "v1 = Vector(5)\n",
    "v2 = Vector (5)\n",
    "for i in range(5):\n",
    "    v1[i] = 5\n",
    "    v2[i] = i\n",
    "\n",
    "print(\"v1:\", v1)\n",
    "print(\"v2:\", v2)\n",
    "print (v1+v2)\n",
    "print (v1-v2)\n",
    "print (v2-v1)"
   ]
  },
  {
   "cell_type": "markdown",
   "id": "961d1fd5",
   "metadata": {},
   "source": [
    "**R-2.10 Implement the neg method for the Vector class of Section 2.3.3, so\n",
    "that the expression −v returns a new vector instance whose coordinates\n",
    "are all the negated values of the respective coordinates of v**"
   ]
  },
  {
   "cell_type": "code",
   "execution_count": 30,
   "id": "66e23a8b",
   "metadata": {},
   "outputs": [
    {
     "name": "stdout",
     "output_type": "stream",
     "text": [
      "Invalid input or index\n",
      "v1: <0, 1, 2, 3, 4>\n",
      "Negative of v1 <0, -1, -2, -3, -4>\n"
     ]
    }
   ],
   "source": [
    "class VectorwNegative(Vector):\n",
    "    def __neg__(self):\n",
    "        result = Vector(len(self))\n",
    "        for i in range(len(self)):\n",
    "            result[i] = -self[i]\n",
    "        return(result)\n",
    "\n",
    "v1 = VectorwNegative(5)\n",
    "for i in range(1,6):\n",
    "    v1[i]= i \n",
    "print(\"v1:\" , v1)\n",
    "v1.__neg__()\n",
    "print(\"Negative of v1\", -v1)"
   ]
  },
  {
   "cell_type": "markdown",
   "id": "be64eba7",
   "metadata": {},
   "source": [
    "**R-2.12 Implement the mul method for the Vector class of Section 2.3.3, so\n",
    "that the expression v 3 returns a new vector with coordinates that are 3\n",
    "times the respective coordinates of v**"
   ]
  },
  {
   "cell_type": "code",
   "execution_count": 51,
   "id": "5eb80bdc",
   "metadata": {},
   "outputs": [
    {
     "name": "stdout",
     "output_type": "stream",
     "text": [
      "v3: <5, 5, 5, 5, 5>\n",
      "v3*5 <25, 25, 25, 25, 25>\n"
     ]
    }
   ],
   "source": [
    "class VectorwMultiply(VectorwNegative):\n",
    "    def __mul__(self, value):\n",
    "        result = Vector(len(self))\n",
    "        for i in range(len(self)):\n",
    "            result[i] = self[i] * value \n",
    "        return result\n",
    "    \n",
    "v3 = VectorwMultiply(5)\n",
    "for x in range(5):\n",
    "    v3[x] = 5 \n",
    "print(\"v3:\", v3)\n",
    "print(\"v3*5\" , v3*5)"
   ]
  },
  {
   "cell_type": "markdown",
   "id": "240a5cc4",
   "metadata": {},
   "source": [
    "**R-2.13 Exercise R-2.12 asks for an implementation of mul , for the Vector\n",
    "class of Section 2.3.3, to provide support for the syntax v 3. Implement\n",
    "the rmul method, to provide additional support for syntax 3 v.**"
   ]
  },
  {
   "cell_type": "code",
   "execution_count": 56,
   "id": "9eab224c",
   "metadata": {},
   "outputs": [
    {
     "name": "stdout",
     "output_type": "stream",
     "text": [
      "v3: <5, 5, 5, 5, 5>\n",
      "5*v3 <25, 25, 25, 25, 25>\n"
     ]
    }
   ],
   "source": [
    "class VectorwrMutiply(VectorwMultiply):\n",
    "    def __rmul__(self,value):\n",
    "        return(self*value)\n",
    "v3 = VectorwrMutiply(5)\n",
    "for x in range(5):\n",
    "    v3[x] = 5 \n",
    "print(\"v3:\", v3)\n",
    "print(\"5*v3\" , 5*v3)"
   ]
  },
  {
   "cell_type": "markdown",
   "id": "eeb0e0c7",
   "metadata": {},
   "source": [
    "**R-2.14 Implement the mul method for the Vector class of Section 2.3.3, so\n",
    "that the expression u v returns a scalar that represents the dot product of\n",
    "the vectors, that is, ∑d\n",
    "i=1 ui · vi**"
   ]
  },
  {
   "cell_type": "code",
   "execution_count": 64,
   "id": "249d9cfd",
   "metadata": {},
   "outputs": [
    {
     "name": "stdout",
     "output_type": "stream",
     "text": [
      "v1*v2 50\n",
      "v1*3 <15, 15, 15, 15, 15>\n"
     ]
    }
   ],
   "source": [
    "class VectorwDotproduct(VectorwrMutiply):\n",
    "    def __mul__(self,other):\n",
    "        if (type(other) == int or type(other) == float):\n",
    "            result = Vector(len(self))\n",
    "            for i in range(len(self)):\n",
    "                result[i] = self[i] * other \n",
    "            return result\n",
    "        else:\n",
    "            if(len(other)==len(self)):\n",
    "               sum = 0 \n",
    "               for i in range(len(self)):\n",
    "                   sum = sum + (self[i] * other[i])\n",
    "               return sum\n",
    "            else: \n",
    "               print(\"Dimension must be matched\")\n",
    "\n",
    "v1 = VectorwDotproduct(5)\n",
    "v2 = VectorwDotproduct(5)\n",
    "\n",
    "for i in range(5):\n",
    "    v1[i] = 5 \n",
    "    v2[i] = i\n",
    "print(\"v1*v2\" , v1*v2)\n",
    "print(\"v1*3\" , v1*3)"
   ]
  },
  {
   "cell_type": "markdown",
   "id": "dba44744",
   "metadata": {},
   "source": [
    "**R-2.15 The Vector class of Section 2.3.3 provides a constructor that takes an in\u0002teger d, and produces a d-dimensional vector with all coordinates equal to\n",
    "0. Another convenient form for creating a new vector would be to send the\n",
    "constructor a parameter that is some iterable type representing a sequence\n",
    "of numbers, and to create a vector with dimension equal to the length of\n",
    "that sequence and coordinates equal to the sequence values. For example,\n",
    "Vector([4, 7, 5]) would produce a three-dimensional vector with coordinates <4, 7, 5>. Modify the constructor so that either of these forms is\n",
    "acceptable; that is, if a single integer is sent, it produces a vector of that\n",
    "dimension with all zeros, but if a sequence of numbers is provided, it produces a vector with coordinates based on that sequence.**"
   ]
  },
  {
   "cell_type": "code",
   "execution_count": 69,
   "id": "e04d634d",
   "metadata": {},
   "outputs": [
    {
     "name": "stdout",
     "output_type": "stream",
     "text": [
      "<10, 12, 8>\n"
     ]
    }
   ],
   "source": [
    "class VectorwListInit(VectorwDotproduct):\n",
    "    def __init__(self, param):  #Override the original constructor\n",
    "        if isinstance(param, int):\n",
    "            super().__init__(param)\n",
    "        else:\n",
    "            self._coords = param\n",
    "v1 = VectorwListInit([4,5,6])\n",
    "v2 = VectorwListInit([6,7,2])\n",
    "print(v1+v2)"
   ]
  },
  {
   "cell_type": "markdown",
   "id": "07069b4f",
   "metadata": {},
   "source": [
    "**R-2.18 Give a short fragment of Python code that uses the progression classes\n",
    "from Section 2.4.2 to find the 8th value of a Fibonacci progression that\n",
    "starts with 2 and 2 as its first two values.**"
   ]
  },
  {
   "cell_type": "code",
   "execution_count": 71,
   "id": "34f626ca",
   "metadata": {},
   "outputs": [
    {
     "name": "stdout",
     "output_type": "stream",
     "text": [
      "0 1 2 3 4 5 6 7 8 9\n",
      "Value Number 1 is 2\n",
      "Value Number 2 is 2\n",
      "Value Number 3 is 4\n",
      "Value Number 4 is 6\n",
      "Value Number 5 is 10\n",
      "Value Number 6 is 16\n",
      "Value Number 7 is 26\n",
      "Value Number 8 is 42\n",
      "2 2 4 6 10 16 26 42\n"
     ]
    }
   ],
   "source": [
    "#-------------R2-18------------\n",
    "class Progression():\n",
    "    def __init__(self, start=0):\n",
    "        self._current = 0\n",
    "    def _advance(self):\n",
    "        self._current += 1\n",
    "    def __next__(self):\n",
    "        if self._current is None:\n",
    "            raise StopIteration()\n",
    "        else:\n",
    "            answer = self._current\n",
    "            self._advance()\n",
    "            return answer\n",
    "    def __iter__(self):\n",
    "        return self\n",
    "    def print_progression(self, n):\n",
    "        print (' '.join(str(next(self)) for j in range(n)))\n",
    "        \n",
    "        \n",
    "class Fibonacci(Progression):\n",
    "    def __init__(self, first = 0, second = 1):\n",
    "        self._current = first \n",
    "        self._previous = second - first\n",
    "        \n",
    "    def __next__(self):\n",
    "        answer = self._current\n",
    "        self._current, self._previous = self._current+self._previous, self._current\n",
    "        return answer\n",
    "    \n",
    "    def __getitem__(self, item):  #Note, not check against negative numbers\n",
    "        current = self._current\n",
    "        previous = self._previous\n",
    "        \n",
    "        for i in range(item+1):\n",
    "            answer = next(self)\n",
    "        \n",
    "        self._current, self._previous = current, previous #Restore the original values\n",
    "        return answer\n",
    "        \n",
    "        \n",
    "        \n",
    "p = Progression()\n",
    "p.print_progression(10)\n",
    "\n",
    "f = Fibonacci(2,2)\n",
    "for i in range (8):\n",
    "    print (f'Value Number {i+1} is {f[i]}')\n",
    "f.print_progression(8)"
   ]
  },
  {
   "cell_type": "markdown",
   "id": "702f45c1",
   "metadata": {},
   "source": [
    "**R-2.22 The collections.Sequence abstract base class does not provide support for\n",
    "comparing two sequences to each other. Modify our Sequence class from\n",
    "Code Fragment 2.14 to include a definition for the eq method, so\n",
    "that expression seq1 == seq2 will return True precisely when the two\n",
    "sequences are element by element equivalent.**"
   ]
  },
  {
   "cell_type": "code",
   "execution_count": 73,
   "id": "8fe25c08",
   "metadata": {},
   "outputs": [],
   "source": [
    "from abc import ABCMeta, abstractmethod\n",
    "\n",
    "\n",
    "class Sequence(metaclass = ABCMeta):\n",
    "    @abstractmethod\n",
    "    def __len__(self):\n",
    "        pass\n",
    "        \n",
    "    @abstractmethod\n",
    "    def __getitem__(self, index):\n",
    "        pass\n",
    "        \n",
    "    def __contains__(self, val):\n",
    "        for i in range(len(self)):\n",
    "            if self[j] == val: return True\n",
    "        return False #if it wasn't found\n",
    "    \n",
    "    def count(self, val):\n",
    "        k = 0\n",
    "        for j in range(len(self)):\n",
    "            if self[j] == val: k+=1\n",
    "        return k\n",
    "    \n",
    "    def __eq__(self, other):\n",
    "        #Note, assume that they have to be equal and have the same number of elements (a little ambiguous in the question)\n",
    "        #otherwise, the range would be min(len(self), len(other))\n",
    "        if len(self) != len (other):\n",
    "            return False\n",
    "        else:\n",
    "            for i in range(len(self)):\n",
    "                if self[i] != other[i]:\n",
    "                    return False\n",
    "            return True  #If you made it through, all the elements are the same"
   ]
  }
 ],
 "metadata": {
  "kernelspec": {
   "display_name": "Python 3",
   "language": "python",
   "name": "python3"
  },
  "language_info": {
   "codemirror_mode": {
    "name": "ipython",
    "version": 3
   },
   "file_extension": ".py",
   "mimetype": "text/x-python",
   "name": "python",
   "nbconvert_exporter": "python",
   "pygments_lexer": "ipython3",
   "version": "3.8.8"
  }
 },
 "nbformat": 4,
 "nbformat_minor": 5
}
